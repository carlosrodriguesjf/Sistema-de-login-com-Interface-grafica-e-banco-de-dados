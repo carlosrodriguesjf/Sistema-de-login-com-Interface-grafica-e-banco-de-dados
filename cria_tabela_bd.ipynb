{
 "cells": [
  {
   "cell_type": "code",
   "execution_count": 1,
   "metadata": {},
   "outputs": [],
   "source": [
    "### Criando tabela #####\n",
    "# importacoes\n",
    "import sqlite3\n",
    "\n",
    "# criando banco de dados e conectando a ele\n",
    "\n",
    "conexao = sqlite3.connect('funcionarios.db')"
   ]
  },
  {
   "cell_type": "code",
   "execution_count": 2,
   "metadata": {},
   "outputs": [],
   "source": [
    "# criando um cursor\n",
    "cursor = conexao.cursor()"
   ]
  },
  {
   "cell_type": "code",
   "execution_count": 3,
   "metadata": {},
   "outputs": [],
   "source": [
    "# criando a tabela\n",
    "cursor.execute(\"\"\"CREATE TABLE funcionarios(\n",
    "               id INTEGER PRIMARY KEY,\n",
    "               usuario TEXT NOT NULL ,\n",
    "               senha TEXT NOT NULL \n",
    "               )\n",
    "               \"\"\")\n",
    "\n",
    "conexao.commit()"
   ]
  },
  {
   "cell_type": "code",
   "execution_count": 4,
   "metadata": {},
   "outputs": [],
   "source": [
    "# inserindo registros teste na tabela\n",
    "cursor.execute(\"INSERT INTO funcionarios VALUES(?, ?, ?)\", (1, 'admin', 'admin'))\n",
    "conexao.commit()"
   ]
  }
 ],
 "metadata": {
  "kernelspec": {
   "display_name": "venv",
   "language": "python",
   "name": "python3"
  },
  "language_info": {
   "codemirror_mode": {
    "name": "ipython",
    "version": 3
   },
   "file_extension": ".py",
   "mimetype": "text/x-python",
   "name": "python",
   "nbconvert_exporter": "python",
   "pygments_lexer": "ipython3",
   "version": "3.12.0"
  }
 },
 "nbformat": 4,
 "nbformat_minor": 2
}
