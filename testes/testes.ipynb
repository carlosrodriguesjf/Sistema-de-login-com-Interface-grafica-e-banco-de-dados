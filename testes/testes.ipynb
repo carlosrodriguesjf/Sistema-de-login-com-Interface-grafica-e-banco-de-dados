{
 "cells": [
  {
   "cell_type": "code",
   "execution_count": null,
   "metadata": {},
   "outputs": [],
   "source": [
    "import sqlite3"
   ]
  },
  {
   "cell_type": "code",
   "execution_count": null,
   "metadata": {},
   "outputs": [],
   "source": [
    "# criando um banco de dados e conectado nele\n",
    "conexao = sqlite3.connect(\"tutorial.db\")"
   ]
  },
  {
   "cell_type": "code",
   "execution_count": null,
   "metadata": {},
   "outputs": [],
   "source": [
    "# criando um cursos\n",
    "cursor = conexao.cursor()"
   ]
  },
  {
   "cell_type": "code",
   "execution_count": null,
   "metadata": {},
   "outputs": [],
   "source": [
    "# criando uma tabela\n",
    "cursor.execute(\"CREATE TABLE movie(title, year, score)\")"
   ]
  },
  {
   "cell_type": "code",
   "execution_count": null,
   "metadata": {},
   "outputs": [],
   "source": [
    "# inserindo valores na tabela\n",
    "cursor.execute(\"\"\"INSERT INTO movie VALUES\n",
    "        ('Monty Python and the Holy Grail', 1975, 8.2),\n",
    "        ('And Now for Something Completely Different', 1971, 7.5)\n",
    "\"\"\"\n",
    ")\n",
    "conexao.commit()"
   ]
  },
  {
   "cell_type": "code",
   "execution_count": null,
   "metadata": {},
   "outputs": [],
   "source": [
    "# consultando valores na tabela\n",
    "cursor.execute(\"\"\"SELECT * FROM movie\"\"\")\n",
    "cursor.fetchall()"
   ]
  },
  {
   "cell_type": "code",
   "execution_count": 70,
   "metadata": {},
   "outputs": [],
   "source": [
    "conexao.close()"
   ]
  },
  {
   "cell_type": "code",
   "execution_count": null,
   "metadata": {},
   "outputs": [],
   "source": []
  },
  {
   "cell_type": "code",
   "execution_count": null,
   "metadata": {},
   "outputs": [],
   "source": [
    "# criando a tabela\n",
    "cursor.execute(\"\"\"CREATE TABLE funcionarios(\n",
    "               id INTEGER PRIMARY KEY,\n",
    "               nome_usuario TEXT NOT NULL ,\n",
    "               senha TEXT NOT NULL \n",
    "               )\n",
    "               \"\"\")"
   ]
  },
  {
   "cell_type": "code",
   "execution_count": null,
   "metadata": {},
   "outputs": [],
   "source": [
    "conexao.commit()"
   ]
  },
  {
   "cell_type": "code",
   "execution_count": null,
   "metadata": {},
   "outputs": [],
   "source": [
    "### PROGRAMA TESTE #####\n",
    "# importacoes\n",
    "import sqlite3\n",
    "\n",
    "# criando banco de dados e conectando a ele\n",
    "conexao = sqlite3.connect('usuarios.db')\n",
    "conexao = sqlite3.connect('funcionarios.db')"
   ]
  },
  {
   "cell_type": "code",
   "execution_count": null,
   "metadata": {},
   "outputs": [],
   "source": [
    "# criando um cursor\n",
    "cursor = conexao.cursor()\n"
   ]
  },
  {
   "cell_type": "code",
   "execution_count": null,
   "metadata": {},
   "outputs": [],
   "source": [
    "# criando a tabela\n",
    "cursor.execute(\"\"\"CREATE TABLE usuarios(\n",
    "               id INTEGER PRIMARY KEY,\n",
    "               nome_usuario TEXT NOT NULL ,\n",
    "               senha TEXT NOT NULL \n",
    "               )\n",
    "               \"\"\")"
   ]
  },
  {
   "cell_type": "code",
   "execution_count": null,
   "metadata": {},
   "outputs": [],
   "source": [
    "# inserindo registros na tabela\n",
    "nome_usuario = 'Carlos'\n",
    "senha = 'abc1234'\n",
    "\n",
    "cursor.execute(\"INSERT INTO usuarios VALUES(?, ?, ?)\", (1, nome_usuario, senha))\n",
    "conexao.commit()"
   ]
  },
  {
   "cell_type": "code",
   "execution_count": null,
   "metadata": {},
   "outputs": [],
   "source": [
    "# inserindo registros na tabela\n",
    "nome_usuario = 'Maria'\n",
    "senha = '98765'\n",
    "\n",
    "cursor.execute(\"INSERT INTO usuarios VALUES(?, ?, ?)\", (2, nome_usuario, senha))\n",
    "conexao.commit()"
   ]
  },
  {
   "cell_type": "code",
   "execution_count": null,
   "metadata": {},
   "outputs": [],
   "source": [
    "# função para cadastrar usuarios\n",
    "\n",
    "def cadastra_usuario():\n",
    "\n",
    "    id = input('Digite o id do usuário: ')\n",
    "    nome_usuario = input('Digite o nome de usuário: ')\n",
    "    senha = input('Digite a senha: ')\n",
    "    \n",
    "    cursor.execute(\"INSERT INTO usuarios VALUES(?, ?, ?)\", (id, nome_usuario, senha))\n",
    "    conexao.commit()\n"
   ]
  },
  {
   "cell_type": "code",
   "execution_count": null,
   "metadata": {},
   "outputs": [],
   "source": [
    "# funcao para alterar usuarios\n",
    "\n",
    "def altera_registro():\n",
    "\n",
    "    id = input('Digite o id do usuário: ')\n",
    "    nome_usuario = input('Digite o nome de usuário: ')\n",
    "    senha = input('Digite a senha: ')\n",
    "    \n",
    "    cursor.execute(\"UPDATE usuarios SET nome_usuario = ?, senha = ? WHERE id = ?\", (nome_usuario,senha, id))\n",
    "    conexao.commit()\n"
   ]
  },
  {
   "cell_type": "code",
   "execution_count": null,
   "metadata": {},
   "outputs": [],
   "source": [
    "def excluir_usuario():\n",
    "\n",
    "    id = input('Digite o id do usuário: ')\n",
    "    # nome_usuario = input('Digite o nome de usuário: ')\n",
    "    # senha = input('Digite a senha: ')\n",
    "    \n",
    "    cursor.execute(\"DELETE FROM usuarios WHERE id = ?\", (id))\n",
    "    conexao.commit()"
   ]
  },
  {
   "cell_type": "code",
   "execution_count": null,
   "metadata": {},
   "outputs": [],
   "source": [
    "def retorna_usuario():\n",
    "\n",
    "    cursor.execute(\"SELECT * FROM usuarios\")\n",
    "    usuarios = cursor.fetchall()\n",
    "    print(usuarios)\n",
    "    conexao.commit()\n",
    "    return usuarios"
   ]
  },
  {
   "cell_type": "code",
   "execution_count": null,
   "metadata": {},
   "outputs": [],
   "source": [
    "\n",
    "cadastra_usuario()\n"
   ]
  },
  {
   "cell_type": "code",
   "execution_count": null,
   "metadata": {},
   "outputs": [],
   "source": [
    "altera_registro()"
   ]
  },
  {
   "cell_type": "code",
   "execution_count": null,
   "metadata": {},
   "outputs": [],
   "source": [
    "excluir_usuario()"
   ]
  },
  {
   "cell_type": "code",
   "execution_count": null,
   "metadata": {},
   "outputs": [],
   "source": [
    "usuario = retorna_usuario()"
   ]
  },
  {
   "cell_type": "code",
   "execution_count": null,
   "metadata": {},
   "outputs": [],
   "source": [
    "usuario[-1][0]\n"
   ]
  },
  {
   "cell_type": "code",
   "execution_count": null,
   "metadata": {},
   "outputs": [],
   "source": [
    "import customtkinter\n",
    "\n",
    "def button_callback():\n",
    "    # Pega todo o texto do textbox\n",
    "    texto_usuario = textbox_usuario.get(\"1.0\", \"end\").strip()  \n",
    "    texto_senha = textbox_senha.get(\"1.0\", \"end\").strip()\n",
    "    print(texto_usuario)\n",
    "    print(texto_senha)\n",
    "\n",
    "\n",
    "def apagar_textbox_usuario(evento):\n",
    "    textbox_usuario.delete(\"0.0\", \"end\")\n",
    "\n",
    "\n",
    "def apagar_textbox_senha(evento):\n",
    "    textbox_senha.delete(\"0.0\", \"end\")\n",
    "\n",
    "# Configurações da janela\n",
    "app = customtkinter.CTk()\n",
    "app.title(\"Login funcionários\")\n",
    "app.geometry(\"400x250\")\n",
    "app.grid_columnconfigure(0, weight=1)\n",
    "\n",
    "\n",
    "# Caixa de texto nome de usuario\n",
    "textbox_usuario = customtkinter.CTkTextbox(app, width=200, height=20)\n",
    "textbox_usuario.pack(pady=20)\n",
    "textbox_usuario.insert(\"1.0\", \"Digite seu nome de usuário\")\n",
    "textbox_usuario.bind(\"<FocusIn>\", apagar_textbox_usuario)\n",
    "\n",
    "# Caixa de texto senha\n",
    "textbox_senha = customtkinter.CTkTextbox(app, width=200, height=20)\n",
    "textbox_senha.pack(pady=20)\n",
    "textbox_senha.insert(\"1.0\", \"Digite sua senha\")\n",
    "textbox_senha.bind(\"<FocusIn>\", apagar_textbox_senha)\n",
    "\n",
    "    \n",
    "# Botão de confirmação\n",
    "botao_cadastro = customtkinter.CTkButton(app, text=\"Login\", command=button_callback)\n",
    "botao_cadastro.pack(pady=10)\n",
    "\n",
    "# Label para registro\n",
    "label = customtkinter.CTkLabel(app, text=\"Não tem uma conta? Registre-se\", fg_color=\"transparent\")\n",
    "label.pack(pady=20)\n",
    "\n",
    "\n",
    "\n",
    "\n",
    "app.mainloop()"
   ]
  }
 ],
 "metadata": {
  "kernelspec": {
   "display_name": "venv",
   "language": "python",
   "name": "python3"
  },
  "language_info": {
   "codemirror_mode": {
    "name": "ipython",
    "version": 3
   },
   "file_extension": ".py",
   "mimetype": "text/x-python",
   "name": "python",
   "nbconvert_exporter": "python",
   "pygments_lexer": "ipython3",
   "version": "3.12.0"
  }
 },
 "nbformat": 4,
 "nbformat_minor": 2
}
